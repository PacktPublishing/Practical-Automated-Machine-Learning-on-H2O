{
 "cells": [
  {
   "cell_type": "code",
   "execution_count": null,
   "id": "e5de402f",
   "metadata": {},
   "outputs": [],
   "source": [
    "import h2o"
   ]
  },
  {
   "cell_type": "code",
   "execution_count": null,
   "id": "3f5d29a3",
   "metadata": {},
   "outputs": [],
   "source": [
    "h2o.init()"
   ]
  },
  {
   "cell_type": "code",
   "execution_count": null,
   "id": "8b248239",
   "metadata": {},
   "outputs": [],
   "source": [
    "data = h2o.import_file(\"Dataset/iris.data\")"
   ]
  },
  {
   "cell_type": "code",
   "execution_count": null,
   "id": "26bbfb84",
   "metadata": {},
   "outputs": [],
   "source": [
    "features = data.columns"
   ]
  },
  {
   "cell_type": "code",
   "execution_count": null,
   "id": "d2401bc7",
   "metadata": {},
   "outputs": [],
   "source": [
    "label = \"C5\"\n",
    "features.remove(label)"
   ]
  },
  {
   "cell_type": "code",
   "execution_count": null,
   "id": "413b77b3",
   "metadata": {},
   "outputs": [],
   "source": [
    "train_dataframe, test_dataframe = data.split_frame([0.8])"
   ]
  },
  {
   "cell_type": "code",
   "execution_count": null,
   "id": "92e251dd",
   "metadata": {},
   "outputs": [],
   "source": [
    "aml = h2o.automl.H2OAutoML(max_models=10, seed = 1)"
   ]
  },
  {
   "cell_type": "code",
   "execution_count": null,
   "id": "cebe07d1",
   "metadata": {},
   "outputs": [],
   "source": [
    "aml.train(x = features, y = label, training_frame = train_dataframe)"
   ]
  },
  {
   "cell_type": "code",
   "execution_count": null,
   "id": "9754633c",
   "metadata": {},
   "outputs": [],
   "source": [
    "model_leaderboard = aml.leaderboard"
   ]
  },
  {
   "cell_type": "code",
   "execution_count": null,
   "id": "e8606376",
   "metadata": {},
   "outputs": [],
   "source": [
    "model_leaderboard.head(rows=model_leaderboard.nrows)"
   ]
  },
  {
   "cell_type": "code",
   "execution_count": null,
   "id": "de5ecd66",
   "metadata": {},
   "outputs": [],
   "source": [
    "model_leaderboard"
   ]
  },
  {
   "cell_type": "code",
   "execution_count": null,
   "id": "52672cd9",
   "metadata": {},
   "outputs": [],
   "source": [
    "aml.predict(test_dataframe)"
   ]
  }
 ],
 "metadata": {
  "kernelspec": {
   "display_name": "Python 3 (ipykernel)",
   "language": "python",
   "name": "python3"
  },
  "language_info": {
   "codemirror_mode": {
    "name": "ipython",
    "version": 3
   },
   "file_extension": ".py",
   "mimetype": "text/x-python",
   "name": "python",
   "nbconvert_exporter": "python",
   "pygments_lexer": "ipython3",
   "version": "3.10.2"
  }
 },
 "nbformat": 4,
 "nbformat_minor": 5
}
