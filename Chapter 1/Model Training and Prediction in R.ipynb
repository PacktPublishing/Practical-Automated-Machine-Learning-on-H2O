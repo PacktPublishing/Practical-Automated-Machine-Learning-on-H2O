{
 "cells": [
  {
   "cell_type": "code",
   "execution_count": null,
   "id": "9a5d6903",
   "metadata": {},
   "outputs": [],
   "source": [
    "library(h2o)"
   ]
  },
  {
   "cell_type": "code",
   "execution_count": null,
   "id": "4836dd05",
   "metadata": {},
   "outputs": [],
   "source": [
    "h2o.init()"
   ]
  },
  {
   "cell_type": "code",
   "execution_count": null,
   "id": "33f5f7d7",
   "metadata": {},
   "outputs": [],
   "source": [
    "data <- h2o.importFile(\"Dataset/iris.data\")"
   ]
  },
  {
   "cell_type": "code",
   "execution_count": null,
   "id": "ad367d8a",
   "metadata": {},
   "outputs": [],
   "source": [
    "label <- \"C5\"\n",
    "features <- setdiff(names(data), label)\n"
   ]
  },
  {
   "cell_type": "code",
   "execution_count": null,
   "id": "68aaca91",
   "metadata": {},
   "outputs": [],
   "source": [
    "parts <- h2o.splitFrame(data, 0.8)"
   ]
  },
  {
   "cell_type": "code",
   "execution_count": null,
   "id": "0e18bc67",
   "metadata": {},
   "outputs": [],
   "source": [
    "train_dataframe <- parts[[1]]"
   ]
  },
  {
   "cell_type": "code",
   "execution_count": null,
   "id": "b1a8aec1",
   "metadata": {},
   "outputs": [],
   "source": [
    "test_dataframe <- parts[[2]]"
   ]
  },
  {
   "cell_type": "code",
   "execution_count": null,
   "id": "7059ad8e",
   "metadata": {},
   "outputs": [],
   "source": [
    "aml <- h2o.automl(x = features, y = label, training_frame = train_dataframe, max_models=10, seed = 1)"
   ]
  },
  {
   "cell_type": "code",
   "execution_count": null,
   "id": "e8f832cd",
   "metadata": {},
   "outputs": [],
   "source": [
    "model_leaderboard <- aml@leaderboard"
   ]
  },
  {
   "cell_type": "code",
   "execution_count": null,
   "id": "49fb9892",
   "metadata": {},
   "outputs": [],
   "source": [
    "print(model_leaderboard, n = nrow(model_leaderboard))"
   ]
  }
 ],
 "metadata": {
  "kernelspec": {
   "display_name": "R",
   "language": "R",
   "name": "ir"
  },
  "language_info": {
   "codemirror_mode": "r",
   "file_extension": ".r",
   "mimetype": "text/x-r-source",
   "name": "R",
   "pygments_lexer": "r",
   "version": "3.6.1"
  }
 },
 "nbformat": 4,
 "nbformat_minor": 5
}
