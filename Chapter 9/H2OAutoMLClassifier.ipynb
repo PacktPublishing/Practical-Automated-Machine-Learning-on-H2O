{
 "cells": [
  {
   "cell_type": "code",
   "execution_count": null,
   "id": "0c68031a",
   "metadata": {},
   "outputs": [],
   "source": [
    "import sklearn\n",
    "import numpy"
   ]
  },
  {
   "cell_type": "code",
   "execution_count": null,
   "id": "dee0984c",
   "metadata": {
    "scrolled": true
   },
   "outputs": [],
   "source": [
    "from sklearn.datasets import load_iris\n",
    "dataframe = load_iris()\n",
    "# print(dataframe)"
   ]
  },
  {
   "cell_type": "code",
   "execution_count": null,
   "id": "829dec6a",
   "metadata": {},
   "outputs": [],
   "source": [
    "features = dataframe.data\n",
    "# print(features)"
   ]
  },
  {
   "cell_type": "code",
   "execution_count": null,
   "id": "bf48657a",
   "metadata": {},
   "outputs": [],
   "source": [
    "label = dataframe.target\n",
    "# print(label)"
   ]
  },
  {
   "cell_type": "code",
   "execution_count": null,
   "id": "068440a7",
   "metadata": {},
   "outputs": [],
   "source": [
    "from sklearn.model_selection import train_test_split\n",
    "feature_train, feature_test, label_train, label_test = train_test_split(features, label, test_size=0.30, random_state=5)"
   ]
  },
  {
   "cell_type": "code",
   "execution_count": null,
   "id": "4566cdec",
   "metadata": {},
   "outputs": [],
   "source": [
    "from h2o.sklearn import H2OAutoMLClassifier\n",
    "h2o_aml_classifier = H2OAutoMLClassifier(max_models=10, seed=5, sort_metric='logloss')"
   ]
  },
  {
   "cell_type": "code",
   "execution_count": null,
   "id": "d3b613e6",
   "metadata": {},
   "outputs": [],
   "source": [
    "h2o_aml_classifier.fit(feature_train, label_train)"
   ]
  },
  {
   "cell_type": "code",
   "execution_count": null,
   "id": "b3f67d81",
   "metadata": {},
   "outputs": [],
   "source": [
    "h2o_aml_classifier.estimator.leaderboard"
   ]
  },
  {
   "cell_type": "code",
   "execution_count": null,
   "id": "df143255",
   "metadata": {},
   "outputs": [],
   "source": [
    "predictions = h2o_aml_classifier.predict(feature_test)\n",
    "print(predictions)"
   ]
  },
  {
   "cell_type": "code",
   "execution_count": null,
   "id": "8a177197",
   "metadata": {},
   "outputs": [],
   "source": [
    "h2o_aml_classifier.estimator.leaderboard"
   ]
  }
 ],
 "metadata": {
  "kernelspec": {
   "display_name": "Python 3 (ipykernel)",
   "language": "python",
   "name": "python3"
  },
  "language_info": {
   "codemirror_mode": {
    "name": "ipython",
    "version": 3
   },
   "file_extension": ".py",
   "mimetype": "text/x-python",
   "name": "python",
   "nbconvert_exporter": "python",
   "pygments_lexer": "ipython3",
   "version": "3.10.2"
  }
 },
 "nbformat": 4,
 "nbformat_minor": 5
}
