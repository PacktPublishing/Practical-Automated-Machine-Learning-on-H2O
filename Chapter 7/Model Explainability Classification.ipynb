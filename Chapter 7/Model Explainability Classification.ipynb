{
 "cells": [
  {
   "cell_type": "code",
   "execution_count": null,
   "id": "b193cdfa",
   "metadata": {},
   "outputs": [],
   "source": [
    "import h2o\n",
    "h2o.init(max_mem_size = \"12g\")"
   ]
  },
  {
   "cell_type": "code",
   "execution_count": null,
   "id": "8f26ef9b",
   "metadata": {},
   "outputs": [],
   "source": [
    "data = h2o.import_file(\"Dataset/iris.data\")"
   ]
  },
  {
   "cell_type": "code",
   "execution_count": null,
   "id": "2ce3504f",
   "metadata": {},
   "outputs": [],
   "source": [
    "features = data.columns\n",
    "label = \"C5\""
   ]
  },
  {
   "cell_type": "code",
   "execution_count": null,
   "id": "1916f29d",
   "metadata": {},
   "outputs": [],
   "source": [
    "features.remove(label)"
   ]
  },
  {
   "cell_type": "code",
   "execution_count": null,
   "id": "7c19ac81",
   "metadata": {},
   "outputs": [],
   "source": [
    "train_dataframe, test_dataframe = data.split_frame([0.8], seed=123)"
   ]
  },
  {
   "cell_type": "code",
   "execution_count": null,
   "id": "7091e905",
   "metadata": {},
   "outputs": [],
   "source": [
    "aml = h2o.automl.H2OAutoML(max_models=10, seed = 123)"
   ]
  },
  {
   "cell_type": "code",
   "execution_count": null,
   "id": "6ded1605",
   "metadata": {},
   "outputs": [],
   "source": [
    "aml.train(x = features, y = label, training_frame = train_dataframe)"
   ]
  },
  {
   "cell_type": "code",
   "execution_count": null,
   "id": "00fc9b7e",
   "metadata": {},
   "outputs": [],
   "source": [
    "aml.explain(test_dataframe)"
   ]
  },
  {
   "cell_type": "code",
   "execution_count": null,
   "id": "0adab649",
   "metadata": {},
   "outputs": [],
   "source": [
    "# aml.leader.explain_row(test_dataframe, row_index=0)"
   ]
  },
  {
   "cell_type": "code",
   "execution_count": null,
   "id": "f2fb565c",
   "metadata": {},
   "outputs": [],
   "source": [
    "# aml.leader.shap_summary_plot(test_dataframe)"
   ]
  }
 ],
 "metadata": {
  "kernelspec": {
   "display_name": "Python 3 (ipykernel)",
   "language": "python",
   "name": "python3"
  },
  "language_info": {
   "codemirror_mode": {
    "name": "ipython",
    "version": 3
   },
   "file_extension": ".py",
   "mimetype": "text/x-python",
   "name": "python",
   "nbconvert_exporter": "python",
   "pygments_lexer": "ipython3",
   "version": "3.10.2"
  }
 },
 "nbformat": 4,
 "nbformat_minor": 5
}
