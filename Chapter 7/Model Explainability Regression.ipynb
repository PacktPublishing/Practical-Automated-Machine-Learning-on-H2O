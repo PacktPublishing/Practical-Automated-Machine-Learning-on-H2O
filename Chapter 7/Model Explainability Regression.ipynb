{
 "cells": [
  {
   "cell_type": "code",
   "execution_count": null,
   "id": "a6261842",
   "metadata": {},
   "outputs": [],
   "source": [
    "import h2o\n",
    "h2o.init(max_mem_size = \"12g\")"
   ]
  },
  {
   "cell_type": "code",
   "execution_count": null,
   "id": "337789e7",
   "metadata": {},
   "outputs": [],
   "source": [
    "data = h2o.import_file(\"Dataset/winequality-red.csv\")"
   ]
  },
  {
   "cell_type": "code",
   "execution_count": null,
   "id": "6883194f",
   "metadata": {},
   "outputs": [],
   "source": [
    "features = data.columns\n",
    "label = \"quality\""
   ]
  },
  {
   "cell_type": "code",
   "execution_count": null,
   "id": "6500c3aa",
   "metadata": {},
   "outputs": [],
   "source": [
    "features.remove(label)"
   ]
  },
  {
   "cell_type": "code",
   "execution_count": null,
   "id": "a4104218",
   "metadata": {},
   "outputs": [],
   "source": [
    "train_dataframe, test_dataframe = data.split_frame([0.8])"
   ]
  },
  {
   "cell_type": "code",
   "execution_count": null,
   "id": "ae0b4f46",
   "metadata": {},
   "outputs": [],
   "source": [
    "aml = h2o.automl.H2OAutoML(max_models=10, seed = 1)"
   ]
  },
  {
   "cell_type": "code",
   "execution_count": null,
   "id": "46b2d860",
   "metadata": {},
   "outputs": [],
   "source": [
    "aml.train(x = features, y = label, training_frame = train_dataframe)"
   ]
  },
  {
   "cell_type": "code",
   "execution_count": null,
   "id": "eebe701a",
   "metadata": {},
   "outputs": [],
   "source": [
    "aml.explain(test_dataframe)"
   ]
  },
  {
   "cell_type": "code",
   "execution_count": null,
   "id": "5582f036",
   "metadata": {},
   "outputs": [],
   "source": [
    "model = h2o.get_model({\"INSERT MODEL NAME\"})\n",
    "model.learning_curve_plot()"
   ]
  }
 ],
 "metadata": {
  "kernelspec": {
   "display_name": "Python 3 (ipykernel)",
   "language": "python",
   "name": "python3"
  },
  "language_info": {
   "codemirror_mode": {
    "name": "ipython",
    "version": 3
   },
   "file_extension": ".py",
   "mimetype": "text/x-python",
   "name": "python",
   "nbconvert_exporter": "python",
   "pygments_lexer": "ipython3",
   "version": "3.10.2"
  }
 },
 "nbformat": 4,
 "nbformat_minor": 5
}
