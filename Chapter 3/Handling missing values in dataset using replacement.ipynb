{
 "cells": [
  {
   "cell_type": "code",
   "execution_count": null,
   "id": "e962b7cd",
   "metadata": {},
   "outputs": [],
   "source": [
    "import h2o"
   ]
  },
  {
   "cell_type": "code",
   "execution_count": null,
   "id": "3e86841b",
   "metadata": {},
   "outputs": [],
   "source": [
    "h2o.init()"
   ]
  },
  {
   "cell_type": "code",
   "execution_count": null,
   "id": "ac6a1f05",
   "metadata": {},
   "outputs": [],
   "source": [
    "dataframe = h2o.create_frame(rows=10, cols=3, real_range=100, integer_fraction=1, missing_fraction=0.1, seed=5)"
   ]
  },
  {
   "cell_type": "code",
   "execution_count": null,
   "id": "f3d05ba1",
   "metadata": {},
   "outputs": [],
   "source": [
    "dataframe.describe"
   ]
  },
  {
   "cell_type": "code",
   "execution_count": null,
   "id": "ec9adb32",
   "metadata": {},
   "outputs": [],
   "source": [
    "dataframe[3,1] = 99"
   ]
  },
  {
   "cell_type": "code",
   "execution_count": null,
   "id": "747d669c",
   "metadata": {},
   "outputs": [],
   "source": [
    "dataframe.describe"
   ]
  },
  {
   "cell_type": "code",
   "execution_count": null,
   "id": "a52b6d37",
   "metadata": {},
   "outputs": [],
   "source": [
    "dataframe[2] = 3*dataframe[2]"
   ]
  },
  {
   "cell_type": "code",
   "execution_count": null,
   "id": "0fd2243a",
   "metadata": {},
   "outputs": [],
   "source": [
    "dataframe.describe"
   ]
  },
  {
   "cell_type": "code",
   "execution_count": null,
   "id": "578a6af1",
   "metadata": {},
   "outputs": [],
   "source": [
    "dataframe[dataframe['C1'] < 0, \"C1\"] = 0\n",
    "dataframe[dataframe['C2'] < 0, \"C2\"] = 0\n",
    "dataframe[dataframe['C2'] < 0, \"C3\"] = 0"
   ]
  },
  {
   "cell_type": "code",
   "execution_count": null,
   "id": "5e158073",
   "metadata": {},
   "outputs": [],
   "source": [
    "dataframe.describe"
   ]
  },
  {
   "cell_type": "code",
   "execution_count": null,
   "id": "04784785",
   "metadata": {},
   "outputs": [],
   "source": [
    "dataframe[\"C1\"] = (dataframe[\"C1\"] < 0).ifelse(-1*dataframe[\"C1\"], dataframe[\"C1\"])\n",
    "dataframe[\"C2\"] = (dataframe[\"C2\"] < 0).ifelse(-1*dataframe[\"C2\"], dataframe[\"C2\"])\n",
    "dataframe[\"C3\"] = (dataframe[\"C3\"] < 0).ifelse(-1*dataframe[\"C3\"], dataframe[\"C3\"])"
   ]
  },
  {
   "cell_type": "code",
   "execution_count": null,
   "id": "ced7060b",
   "metadata": {},
   "outputs": [],
   "source": [
    "dataframe[dataframe[\"C1\"].isna(), \"C1\"] = 0\n",
    "dataframe[dataframe[\"C2\"].isna(), \"C2\"] = 0\n",
    "dataframe[dataframe[\"C3\"].isna(), \"C3\"] = 0"
   ]
  },
  {
   "cell_type": "code",
   "execution_count": null,
   "id": "fbadba18",
   "metadata": {},
   "outputs": [],
   "source": [
    "dataframe.describe"
   ]
  },
  {
   "cell_type": "code",
   "execution_count": null,
   "id": "6053ba2d",
   "metadata": {},
   "outputs": [],
   "source": []
  }
 ],
 "metadata": {
  "kernelspec": {
   "display_name": "Python 3 (ipykernel)",
   "language": "python",
   "name": "python3"
  },
  "language_info": {
   "codemirror_mode": {
    "name": "ipython",
    "version": 3
   },
   "file_extension": ".py",
   "mimetype": "text/x-python",
   "name": "python",
   "nbconvert_exporter": "python",
   "pygments_lexer": "ipython3",
   "version": "3.10.2"
  }
 },
 "nbformat": 4,
 "nbformat_minor": 5
}
