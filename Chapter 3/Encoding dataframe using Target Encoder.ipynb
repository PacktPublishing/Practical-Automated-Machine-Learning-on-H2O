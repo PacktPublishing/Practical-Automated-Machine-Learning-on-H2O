{
 "cells": [
  {
   "cell_type": "code",
   "execution_count": null,
   "id": "a58a3d41",
   "metadata": {},
   "outputs": [],
   "source": [
    "import h2o\n",
    "from h2o.estimators import H2OTargetEncoderEstimator\n",
    "h2o.init()"
   ]
  },
  {
   "cell_type": "code",
   "execution_count": null,
   "id": "b90ed84e",
   "metadata": {},
   "outputs": [],
   "source": [
    "automobile_dataframe = h2o.import_file(\"Dataset\\Automobile_data.csv\")\n",
    "automobile_dataframe"
   ]
  },
  {
   "cell_type": "code",
   "execution_count": null,
   "id": "2104fea3",
   "metadata": {},
   "outputs": [],
   "source": [
    "automobile_dataframe = automobile_dataframe[:,[\"make\", \"fuel-type\", \"body-style\", \"price\"]]\n",
    "automobile_dataframe"
   ]
  },
  {
   "cell_type": "code",
   "execution_count": null,
   "id": "95d3c7a4",
   "metadata": {},
   "outputs": [],
   "source": [
    "automobile_dataframe_for_training, automobile_dataframe_for_test = automobile_dataframe.split_frame(ratios = [.8], seed = 123)\n",
    "automobile_dataframe_for_training\n",
    "automobile_dataframe_for_test"
   ]
  },
  {
   "cell_type": "code",
   "execution_count": null,
   "id": "0eb57928",
   "metadata": {},
   "outputs": [],
   "source": [
    "automobile_te = H2OTargetEncoderEstimator()\n",
    "automobile_te.train(x=[\"make\", \"fuel-type\", \"body-style\"], y=\"price\", training_frame=automobile_dataframe_for_training)"
   ]
  },
  {
   "cell_type": "code",
   "execution_count": null,
   "id": "224c47db",
   "metadata": {},
   "outputs": [],
   "source": [
    "te_automobile_dataframe_for_training = automobile_te.transform(frame=automobile_dataframe_for_training, as_training=True)\n",
    "te_automobile_dataframe_for_training"
   ]
  },
  {
   "cell_type": "code",
   "execution_count": null,
   "id": "148fd388",
   "metadata": {},
   "outputs": [],
   "source": [
    "te_automobile_dataframe_for_test = automobile_te.transform(frame=automobile_dataframe_for_test, noise=0)\n",
    "te_automobile_dataframe_for_test"
   ]
  }
 ],
 "metadata": {
  "kernelspec": {
   "display_name": "Python 3 (ipykernel)",
   "language": "python",
   "name": "python3"
  },
  "language_info": {
   "codemirror_mode": {
    "name": "ipython",
    "version": 3
   },
   "file_extension": ".py",
   "mimetype": "text/x-python",
   "name": "python",
   "nbconvert_exporter": "python",
   "pygments_lexer": "ipython3",
   "version": "3.10.2"
  }
 },
 "nbformat": 4,
 "nbformat_minor": 5
}
