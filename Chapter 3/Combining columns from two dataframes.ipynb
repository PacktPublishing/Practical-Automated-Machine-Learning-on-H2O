{
 "cells": [
  {
   "cell_type": "code",
   "execution_count": null,
   "id": "6466af32",
   "metadata": {},
   "outputs": [],
   "source": [
    "import h2o"
   ]
  },
  {
   "cell_type": "code",
   "execution_count": null,
   "id": "d5d17a26",
   "metadata": {},
   "outputs": [],
   "source": [
    "import numpy as np"
   ]
  },
  {
   "cell_type": "code",
   "execution_count": null,
   "id": "40429e7d",
   "metadata": {},
   "outputs": [],
   "source": [
    "h2o.init()"
   ]
  },
  {
   "cell_type": "code",
   "execution_count": null,
   "id": "405e6783",
   "metadata": {},
   "outputs": [],
   "source": [
    "important_dataframe_1 = h2o.H2OFrame.from_python(np.random.randn(15,5).tolist(), column_names=list([\"important_column_1\", \"important_column_2\", \"important_column_3\", \"important_column_4\", \"important_column_5\"]))"
   ]
  },
  {
   "cell_type": "code",
   "execution_count": null,
   "id": "11e566f9",
   "metadata": {},
   "outputs": [],
   "source": [
    "important_dataframe_1.describe"
   ]
  },
  {
   "cell_type": "code",
   "execution_count": null,
   "id": "f6a4a1cd",
   "metadata": {},
   "outputs": [],
   "source": [
    "important_dataframe_2 = h2o.H2OFrame.from_python(np.random.randn(15,2).tolist(), column_names=list([\"important_column_6\", \"important_column_7\"]))"
   ]
  },
  {
   "cell_type": "code",
   "execution_count": null,
   "id": "1c2b5403",
   "metadata": {},
   "outputs": [],
   "source": [
    "important_dataframe_2.describe"
   ]
  },
  {
   "cell_type": "code",
   "execution_count": null,
   "id": "485e5cb8",
   "metadata": {},
   "outputs": [],
   "source": [
    "final_dataframe = important_dataframe_1.cbind(important_dataframe_2)"
   ]
  },
  {
   "cell_type": "code",
   "execution_count": null,
   "id": "173d5f9b",
   "metadata": {},
   "outputs": [],
   "source": [
    "final_dataframe.describe"
   ]
  },
  {
   "cell_type": "code",
   "execution_count": null,
   "id": "93d68bcc",
   "metadata": {},
   "outputs": [],
   "source": []
  }
 ],
 "metadata": {
  "kernelspec": {
   "display_name": "Python 3 (ipykernel)",
   "language": "python",
   "name": "python3"
  },
  "language_info": {
   "codemirror_mode": {
    "name": "ipython",
    "version": 3
   },
   "file_extension": ".py",
   "mimetype": "text/x-python",
   "name": "python",
   "nbconvert_exporter": "python",
   "pygments_lexer": "ipython3",
   "version": "3.10.2"
  }
 },
 "nbformat": 4,
 "nbformat_minor": 5
}
