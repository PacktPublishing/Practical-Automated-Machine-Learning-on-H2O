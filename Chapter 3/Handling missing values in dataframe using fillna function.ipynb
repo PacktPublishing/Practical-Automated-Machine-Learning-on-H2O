{
 "cells": [
  {
   "cell_type": "code",
   "execution_count": null,
   "id": "e962b7cd",
   "metadata": {},
   "outputs": [],
   "source": [
    "import h2o"
   ]
  },
  {
   "cell_type": "code",
   "execution_count": null,
   "id": "97621afc",
   "metadata": {},
   "outputs": [],
   "source": [
    "import numpy as np"
   ]
  },
  {
   "cell_type": "code",
   "execution_count": null,
   "id": "3e86841b",
   "metadata": {},
   "outputs": [],
   "source": [
    "h2o.init()"
   ]
  },
  {
   "cell_type": "code",
   "execution_count": null,
   "id": "ac6a1f05",
   "metadata": {},
   "outputs": [],
   "source": [
    "dataframe = h2o.create_frame(rows=10, cols=3, real_fraction=1.0, real_range=100, missing_fraction=0.2, seed=123)"
   ]
  },
  {
   "cell_type": "code",
   "execution_count": null,
   "id": "f3d05ba1",
   "metadata": {},
   "outputs": [],
   "source": [
    "dataframe.describe"
   ]
  },
  {
   "cell_type": "code",
   "execution_count": null,
   "id": "ec9adb32",
   "metadata": {},
   "outputs": [],
   "source": [
    "filled_dataframe = dataframe.fillna(method=\"forward\", axis=0, maxlen=1)"
   ]
  },
  {
   "cell_type": "code",
   "execution_count": null,
   "id": "747d669c",
   "metadata": {},
   "outputs": [],
   "source": [
    "filled_dataframe.describe"
   ]
  }
 ],
 "metadata": {
  "kernelspec": {
   "display_name": "Python 3 (ipykernel)",
   "language": "python",
   "name": "python3"
  },
  "language_info": {
   "codemirror_mode": {
    "name": "ipython",
    "version": 3
   },
   "file_extension": ".py",
   "mimetype": "text/x-python",
   "name": "python",
   "nbconvert_exporter": "python",
   "pygments_lexer": "ipython3",
   "version": "3.10.2"
  }
 },
 "nbformat": 4,
 "nbformat_minor": 5
}
