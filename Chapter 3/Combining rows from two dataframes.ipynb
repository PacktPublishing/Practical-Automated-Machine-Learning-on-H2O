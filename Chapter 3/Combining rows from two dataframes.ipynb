{
 "cells": [
  {
   "cell_type": "code",
   "execution_count": null,
   "id": "e962b7cd",
   "metadata": {},
   "outputs": [],
   "source": [
    "import h2o"
   ]
  },
  {
   "cell_type": "code",
   "execution_count": null,
   "id": "97621afc",
   "metadata": {},
   "outputs": [],
   "source": [
    "import numpy as np"
   ]
  },
  {
   "cell_type": "code",
   "execution_count": null,
   "id": "3e86841b",
   "metadata": {},
   "outputs": [],
   "source": [
    "h2o.init()"
   ]
  },
  {
   "cell_type": "code",
   "execution_count": null,
   "id": "ac6a1f05",
   "metadata": {},
   "outputs": [],
   "source": [
    "important_dataframe_1 = h2o.H2OFrame.from_python(np.random.randn(15,5).tolist(), column_names=list([\"important_column_1\", \"important_column_2\",\"important_column_3\",\"important_column_4\",\"important_column_5\"]))"
   ]
  },
  {
   "cell_type": "code",
   "execution_count": null,
   "id": "a52325b8",
   "metadata": {},
   "outputs": [],
   "source": [
    "important_dataframe_1.nrows"
   ]
  },
  {
   "cell_type": "code",
   "execution_count": null,
   "id": "ec9adb32",
   "metadata": {},
   "outputs": [],
   "source": [
    "important_dataframe_2 = h2o.H2OFrame.from_python(np.random.randn(10,5).tolist(), column_names=list([\"important_column_1\", \"important_column_2\",\"important_column_3\",\"important_column_4\",\"important_column_5\"]))"
   ]
  },
  {
   "cell_type": "code",
   "execution_count": null,
   "id": "747d669c",
   "metadata": {},
   "outputs": [],
   "source": [
    "important_dataframe_2.nrows"
   ]
  },
  {
   "cell_type": "code",
   "execution_count": null,
   "id": "67647868",
   "metadata": {},
   "outputs": [],
   "source": [
    "final_dataframe = important_dataframe_1.rbind(important_dataframe_2)"
   ]
  },
  {
   "cell_type": "code",
   "execution_count": null,
   "id": "92d33e34",
   "metadata": {},
   "outputs": [],
   "source": [
    "final_dataframe.describe"
   ]
  },
  {
   "cell_type": "code",
   "execution_count": null,
   "id": "8c651c15",
   "metadata": {},
   "outputs": [],
   "source": [
    "final_dataframe.nrows"
   ]
  }
 ],
 "metadata": {
  "kernelspec": {
   "display_name": "Python 3 (ipykernel)",
   "language": "python",
   "name": "python3"
  },
  "language_info": {
   "codemirror_mode": {
    "name": "ipython",
    "version": 3
   },
   "file_extension": ".py",
   "mimetype": "text/x-python",
   "name": "python",
   "nbconvert_exporter": "python",
   "pygments_lexer": "ipython3",
   "version": "3.10.2"
  }
 },
 "nbformat": 4,
 "nbformat_minor": 5
}
