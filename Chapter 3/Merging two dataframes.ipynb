{
 "cells": [
  {
   "cell_type": "code",
   "execution_count": null,
   "id": "e962b7cd",
   "metadata": {},
   "outputs": [],
   "source": [
    "import h2o"
   ]
  },
  {
   "cell_type": "code",
   "execution_count": null,
   "id": "97621afc",
   "metadata": {},
   "outputs": [],
   "source": [
    "import numpy as np"
   ]
  },
  {
   "cell_type": "code",
   "execution_count": null,
   "id": "3e86841b",
   "metadata": {},
   "outputs": [],
   "source": [
    "h2o.init()"
   ]
  },
  {
   "cell_type": "code",
   "execution_count": null,
   "id": "ac6a1f05",
   "metadata": {},
   "outputs": [],
   "source": [
    "dataframe_1 = h2o.H2OFrame.from_python({'words':['Hello', 'World', 'Welcome', 'To', 'Machine', 'Learning'], 'numerical_representation': [0,1,2,3,4,5],'letters':['a','b','c','d']})"
   ]
  },
  {
   "cell_type": "code",
   "execution_count": null,
   "id": "f3d05ba1",
   "metadata": {},
   "outputs": [],
   "source": [
    "dataframe_1.describe"
   ]
  },
  {
   "cell_type": "code",
   "execution_count": null,
   "id": "ec9adb32",
   "metadata": {},
   "outputs": [],
   "source": [
    "dataframe_2 = h2o.H2OFrame.from_python({'other_words':['How', 'Are', 'You', 'Doing', 'Today', 'My', 'Friend', 'Learning', 'H2O', 'Artificial', 'Intelligence'], 'numerical_representation': [0,1,2,3,4,5,6,7,8,9],'letters':['a','b','c','d','e']})"
   ]
  },
  {
   "cell_type": "code",
   "execution_count": null,
   "id": "747d669c",
   "metadata": {},
   "outputs": [],
   "source": [
    "dataframe_2.describe"
   ]
  },
  {
   "cell_type": "code",
   "execution_count": null,
   "id": "67647868",
   "metadata": {},
   "outputs": [],
   "source": [
    "final_dataframe = dataframe_1.merge(dataframe_2)"
   ]
  },
  {
   "cell_type": "code",
   "execution_count": null,
   "id": "92d33e34",
   "metadata": {},
   "outputs": [],
   "source": [
    "final_dataframe.describe"
   ]
  }
 ],
 "metadata": {
  "kernelspec": {
   "display_name": "Python 3 (ipykernel)",
   "language": "python",
   "name": "python3"
  },
  "language_info": {
   "codemirror_mode": {
    "name": "ipython",
    "version": 3
   },
   "file_extension": ".py",
   "mimetype": "text/x-python",
   "name": "python",
   "nbconvert_exporter": "python",
   "pygments_lexer": "ipython3",
   "version": "3.10.2"
  }
 },
 "nbformat": 4,
 "nbformat_minor": 5
}
