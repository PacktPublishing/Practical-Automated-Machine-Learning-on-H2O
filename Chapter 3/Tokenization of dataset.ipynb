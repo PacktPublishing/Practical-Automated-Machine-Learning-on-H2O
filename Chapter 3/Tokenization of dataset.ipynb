{
 "cells": [
  {
   "cell_type": "code",
   "execution_count": null,
   "id": "e962b7cd",
   "metadata": {},
   "outputs": [],
   "source": [
    "import h2o"
   ]
  },
  {
   "cell_type": "code",
   "execution_count": null,
   "id": "3e86841b",
   "metadata": {},
   "outputs": [],
   "source": [
    "h2o.init()"
   ]
  },
  {
   "cell_type": "code",
   "execution_count": null,
   "id": "ccc26f79",
   "metadata": {},
   "outputs": [],
   "source": [
    "dataframe1 = h2o.H2OFrame.from_python({'C1':['Today we learn AI', 'Tomorrow AI learns us', 'Today and Tomorrow are same', 'Us and AI are same']})"
   ]
  },
  {
   "cell_type": "code",
   "execution_count": null,
   "id": "001ab729",
   "metadata": {},
   "outputs": [],
   "source": [
    "dataframe1 = dataframe1.ascharacter()"
   ]
  },
  {
   "cell_type": "code",
   "execution_count": null,
   "id": "fb2aaaaf",
   "metadata": {},
   "outputs": [],
   "source": [
    "dataframe1.describe"
   ]
  },
  {
   "cell_type": "code",
   "execution_count": null,
   "id": "67125e06",
   "metadata": {},
   "outputs": [],
   "source": [
    "tokenized_dataframe = dataframe1.tokenize(\" \")"
   ]
  },
  {
   "cell_type": "code",
   "execution_count": null,
   "id": "9b192da8",
   "metadata": {},
   "outputs": [],
   "source": [
    "tokenized_dataframe.describe"
   ]
  }
 ],
 "metadata": {
  "kernelspec": {
   "display_name": "Python 3 (ipykernel)",
   "language": "python",
   "name": "python3"
  },
  "language_info": {
   "codemirror_mode": {
    "name": "ipython",
    "version": 3
   },
   "file_extension": ".py",
   "mimetype": "text/x-python",
   "name": "python",
   "nbconvert_exporter": "python",
   "pygments_lexer": "ipython3",
   "version": "3.10.2"
  }
 },
 "nbformat": 4,
 "nbformat_minor": 5
}
