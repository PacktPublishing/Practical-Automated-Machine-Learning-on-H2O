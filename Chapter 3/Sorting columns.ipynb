{
 "cells": [
  {
   "cell_type": "code",
   "execution_count": null,
   "id": "a0e678dc",
   "metadata": {},
   "outputs": [],
   "source": [
    "import h2o\n",
    "h2o.init()"
   ]
  },
  {
   "cell_type": "code",
   "execution_count": null,
   "id": "652c99c6",
   "metadata": {},
   "outputs": [],
   "source": [
    "dataframe = h2o.H2OFrame.from_python({'C1': [3,3,3,0,12,13,1,8,8,14,15,2,3,8,8],'C2':[1,5,3,6,8,6,8,7,6,5,1,2,3,6,6],'C3':[15,14,13,12,11,10,9,8,7,6,5,4,3,2,1]})\n",
    "dataframe.describe"
   ]
  },
  {
   "cell_type": "code",
   "execution_count": null,
   "id": "64ee6fa7",
   "metadata": {},
   "outputs": [],
   "source": [
    "sorted_dataframe_1 = dataframe.sort(0)\n",
    "sorted_dataframe_1.describe"
   ]
  },
  {
   "cell_type": "code",
   "execution_count": null,
   "id": "488d96a6",
   "metadata": {},
   "outputs": [],
   "source": [
    "sorted_dataframe_2 = dataframe.sort(['C1','C2'])\n",
    "sorted_dataframe_2.describe"
   ]
  },
  {
   "cell_type": "code",
   "execution_count": null,
   "id": "3600ec0c",
   "metadata": {},
   "outputs": [],
   "source": [
    "sorted_dataframe_3 = dataframe.sort(by=['C1','C2'], ascending=[True,False])\n",
    "sorted_dataframe_3.describe"
   ]
  }
 ],
 "metadata": {
  "kernelspec": {
   "display_name": "Python 3 (ipykernel)",
   "language": "python",
   "name": "python3"
  },
  "language_info": {
   "codemirror_mode": {
    "name": "ipython",
    "version": 3
   },
   "file_extension": ".py",
   "mimetype": "text/x-python",
   "name": "python",
   "nbconvert_exporter": "python",
   "pygments_lexer": "ipython3",
   "version": "3.10.2"
  }
 },
 "nbformat": 4,
 "nbformat_minor": 5
}
