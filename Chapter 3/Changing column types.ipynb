{
 "cells": [
  {
   "cell_type": "code",
   "execution_count": null,
   "id": "e962b7cd",
   "metadata": {},
   "outputs": [],
   "source": [
    "import h2o"
   ]
  },
  {
   "cell_type": "code",
   "execution_count": null,
   "id": "3e86841b",
   "metadata": {},
   "outputs": [],
   "source": [
    "h2o.init()"
   ]
  },
  {
   "cell_type": "code",
   "execution_count": null,
   "id": "05e1b493",
   "metadata": {},
   "outputs": [],
   "source": [
    "dataframe = h2o.H2OFrame.from_python({'C1': [3,3,3,0,12,13,1,8,8,14,15,2,3,8,8],'C2':[1,5,3,6,8,6,8,7,6,5,1,2,3,6,6],'C3':[15,14,13,12,11,10,9,8,7,6,5,4,3,2,1]})\n",
    "dataframe.describe"
   ]
  },
  {
   "cell_type": "code",
   "execution_count": null,
   "id": "ae7777ca",
   "metadata": {},
   "outputs": [],
   "source": [
    "dataframe['C1'].isnumeric()"
   ]
  },
  {
   "cell_type": "code",
   "execution_count": null,
   "id": "9c4737e7",
   "metadata": {},
   "outputs": [],
   "source": [
    "dataframe['C1'].isfactor()"
   ]
  },
  {
   "cell_type": "code",
   "execution_count": null,
   "id": "6cc2095c",
   "metadata": {},
   "outputs": [],
   "source": [
    "dataframe['C1'] = dataframe['C1'].asfactor()\n",
    "dataframe['C1'].isfactor()"
   ]
  },
  {
   "cell_type": "code",
   "execution_count": null,
   "id": "b7f0b7f9",
   "metadata": {},
   "outputs": [],
   "source": [
    "dataframe['C1'] = dataframe['C1'].asnumeric()\n",
    "dataframe['C1'].isnumeric()"
   ]
  }
 ],
 "metadata": {
  "kernelspec": {
   "display_name": "Python 3 (ipykernel)",
   "language": "python",
   "name": "python3"
  },
  "language_info": {
   "codemirror_mode": {
    "name": "ipython",
    "version": 3
   },
   "file_extension": ".py",
   "mimetype": "text/x-python",
   "name": "python",
   "nbconvert_exporter": "python",
   "pygments_lexer": "ipython3",
   "version": "3.10.2"
  }
 },
 "nbformat": 4,
 "nbformat_minor": 5
}
